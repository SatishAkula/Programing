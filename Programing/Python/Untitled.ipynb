{
 "cells": [
  {
   "cell_type": "code",
   "execution_count": 1,
   "metadata": {},
   "outputs": [
    {
     "name": "stdout",
     "output_type": "stream",
     "text": [
      "hello world\n"
     ]
    }
   ],
   "source": [
    "print(\"hello world\")"
   ]
  },
  {
   "cell_type": "code",
   "execution_count": 2,
   "metadata": {},
   "outputs": [
    {
     "name": "stdout",
     "output_type": "stream",
     "text": [
      "1\n"
     ]
    }
   ],
   "source": [
    "def function(arr=[]):\n",
    "    print(arr[0])\n",
    "\n",
    "arr=[1,2,3,4,5,6,7,8,9,10]\n",
    "function(arr)"
   ]
  },
  {
   "cell_type": "code",
   "execution_count": 5,
   "metadata": {},
   "outputs": [
    {
     "name": "stdout",
     "output_type": "stream",
     "text": [
      "25\n",
      "30\n"
     ]
    }
   ],
   "source": [
    "import threading\n",
    "from threading import Thread\n",
    "def Calculate1(arr=[]):\n",
    "    total=0\n",
    "    for i in range(0,len(arr)):\n",
    "        if i%2==0:\n",
    "            total=total+arr[i]\n",
    "            #print(total)\n",
    "            #print(\"in 1\")\n",
    "    print(total)\n",
    "def Calculate2(arr=[]):\n",
    "    total=0\n",
    "    for i in range(0,len(arr)):\n",
    "        if i%2!=0:\n",
    "            total=total+arr[i]\n",
    "            #print(total)\n",
    "            #print(\"in 2\")\n",
    "    print(total)\n",
    "\n",
    "\n",
    "if __name__ == \"__main__\": \n",
    "    arr=[1,2,3,4,5,6,7,8,9,10];\n",
    "    Thread(target=Calculate1(arr)).start()\n",
    "    Thread(target=Calculate2(arr)).start()\n",
    "      "
   ]
  },
  {
   "cell_type": "code",
   "execution_count": 1,
   "metadata": {},
   "outputs": [
    {
     "name": "stdout",
     "output_type": "stream",
     "text": [
      "hello\n"
     ]
    }
   ],
   "source": [
    "class Myclass:\n",
    "    a=10\n",
    "    def func(self):\n",
    "        print(\"hello\")\n",
    "obj=Myclass()\n",
    "obj.func()"
   ]
  },
  {
   "cell_type": "code",
   "execution_count": 4,
   "metadata": {},
   "outputs": [
    {
     "name": "stdout",
     "output_type": "stream",
     "text": [
      "55\n"
     ]
    }
   ],
   "source": [
    "class Myclass:\n",
    "    def fun(self):\n",
    "        i=0;\n",
    "        number=10;\n",
    "        total=0;\n",
    "        for i in range(1,11,1):\n",
    "            total=total+i\n",
    "        print(total)    \n",
    "obj=Myclass()\n",
    "obj.fun()"
   ]
  },
  {
   "cell_type": "code",
   "execution_count": 11,
   "metadata": {
    "scrolled": true
   },
   "outputs": [
    {
     "name": "stdout",
     "output_type": "stream",
     "text": [
      "5\n"
     ]
    }
   ],
   "source": [
    "class Myclass:\n",
    "    def __init__(self,num1=0,num2=0):\n",
    "        self.val1=num1\n",
    "        self.val2=num2\n",
    "    def sum(self):\n",
    "        val=self.val1+self.val2\n",
    "        #print(val)\n",
    "        return val\n",
    "obj=Myclass(2,3)\n",
    "print(obj.sum())"
   ]
  },
  {
   "cell_type": "code",
   "execution_count": 12,
   "metadata": {},
   "outputs": [
    {
     "data": {
      "text/plain": [
       "55"
      ]
     },
     "execution_count": 12,
     "metadata": {},
     "output_type": "execute_result"
    }
   ],
   "source": [
    "class Myclass:\n",
    "    def total(self,arr):\n",
    "        total=0;\n",
    "        for i in range(0,len(arr)):\n",
    "            total=total+arr[i]\n",
    "        return total\n",
    "obj=Myclass()\n",
    "arr=[1,2,3,4,5,6,7,8,9,10]\n",
    "obj.total(arr)"
   ]
  },
  {
   "cell_type": "code",
   "execution_count": 22,
   "metadata": {},
   "outputs": [
    {
     "name": "stdout",
     "output_type": "stream",
     "text": [
      "you can see me\n",
      "you cannot see me\n"
     ]
    }
   ],
   "source": [
    "class SeeMee:\n",
    "    \n",
    "      def youcanseeme(self):\n",
    "        return 'you can see me'\n",
    "    \n",
    "      def __youcannotseeme(self):\n",
    "        return 'you cannot see me'\n",
    "    \n",
    "#Outside class    \n",
    "Check = SeeMee()\n",
    "print(Check.youcanseeme())\n",
    "print(Check._SeeMee__youcannotseeme()) \n",
    "#Changing the name causes it to access the function"
   ]
  },
  {
   "cell_type": "code",
   "execution_count": null,
   "metadata": {},
   "outputs": [],
   "source": []
  },
  {
   "cell_type": "code",
   "execution_count": null,
   "metadata": {},
   "outputs": [],
   "source": []
  }
 ],
 "metadata": {
  "kernelspec": {
   "display_name": "Python 3",
   "language": "python",
   "name": "python3"
  },
  "language_info": {
   "codemirror_mode": {
    "name": "ipython",
    "version": 3
   },
   "file_extension": ".py",
   "mimetype": "text/x-python",
   "name": "python",
   "nbconvert_exporter": "python",
   "pygments_lexer": "ipython3",
   "version": "3.7.1"
  }
 },
 "nbformat": 4,
 "nbformat_minor": 2
}
